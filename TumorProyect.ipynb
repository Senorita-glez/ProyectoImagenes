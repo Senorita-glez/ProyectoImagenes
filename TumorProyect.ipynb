{
 "cells": [
  {
   "cell_type": "code",
   "execution_count": 20,
   "metadata": {},
   "outputs": [],
   "source": [
    "import FuncionesPreProcess as fp\n",
    "import os\n",
    "import cv2\n",
    "import numpy as np "
   ]
  },
  {
   "cell_type": "code",
   "execution_count": 21,
   "metadata": {},
   "outputs": [],
   "source": [
    "def sacarDiferencia(carpeta, newCarpeta):\n",
    "    # Crear la carpeta de imágenes de diferencia si no existe\n",
    "    if not os.path.exists(newCarpeta):\n",
    "        os.makedirs(newCarpeta)\n",
    "\n",
    "    # Obtener la lista de archivos en la carpeta\n",
    "    archivos = os.listdir(carpeta)\n",
    "\n",
    "    # Iterar sobre los archivos\n",
    "    for archivo in archivos:\n",
    "        # Comprobar si es un archivo de imagen\n",
    "        if archivo.endswith(\".jpg\") or archivo.endswith(\".png\"):\n",
    "            # Ruta completa de la imagen\n",
    "            ruta_imagen = os.path.join(carpeta, archivo)\n",
    "\n",
    "            # Cargar la imagen\n",
    "            imagen = cv2.imread(ruta_imagen, 0)\n",
    "            imagen = fp.normalize(imagen)\n",
    "\n",
    "            # Eliminación de ruido con filtrado de media\n",
    "            imagen = fp.medianBlur(imagen, 3)\n",
    "\n",
    "            # Mejora de la nitidez utilizando filtrado bilateral\n",
    "            imagen = fp.bilateral_filter(imagen, 9, 40, 100)\n",
    "\n",
    "            # Obtener dimensiones de la imagen\n",
    "            alto, ancho = imagen.shape\n",
    "\n",
    "            # Dividir la imagen en mitades\n",
    "            mitad_izquierda = imagen[:, :ancho // 2]\n",
    "            mitad_derecha = imagen[:, ancho // 2:]\n",
    "\n",
    "            # Aplicar efecto espejo vertical a la mitad derecha\n",
    "            mitad_derecha_espejo = fp.espejoY(mitad_derecha)\n",
    "            \n",
    "            diferencia = np.abs(mitad_izquierda.astype(int) - mitad_derecha_espejo.astype(int))\n",
    "\n",
    "            # Convertir la imagen de diferencia a CV_8U\n",
    "            diferencia = fp.convertAbs(diferencia)\n",
    "            \n",
    "            # Aplicar el filtro bilateral\n",
    "            diferencia = fp.bilateral_filter(diferencia, 9, 300, 2000)\n",
    "\n",
    "            # Guardar la imagen de diferencia en escala de grises\n",
    "            nombre_grafica = \"mitad_\" + archivo\n",
    "            ruta_grafica = os.path.join(newCarpeta, nombre_grafica)\n",
    "            cv2.imwrite(ruta_grafica, diferencia)\n"
   ]
  },
  {
   "cell_type": "code",
   "execution_count": 22,
   "metadata": {},
   "outputs": [],
   "source": [
    "'''Esta parte solo se ejecuta una vez'''\n",
    "#sacarDiferencia('yes_nuevo/','./carpeta_MitadesYesM/')\n",
    "\n",
    "#sacarDiferencia('no_nuevo/','./carpeta_MitadesNoM/')"
   ]
  },
  {
   "cell_type": "code",
   "execution_count": 23,
   "metadata": {},
   "outputs": [],
   "source": [
    "data_yes = fp.vectorizar('carpeta_MitadesYesM/', 1)\n",
    "data_no = fp.vectorizar('carpeta_MitadesNoM/', 0)"
   ]
  },
  {
   "cell_type": "code",
   "execution_count": 49,
   "metadata": {},
   "outputs": [],
   "source": [
    "import FuncionesIA as fia"
   ]
  },
  {
   "cell_type": "code",
   "execution_count": 25,
   "metadata": {},
   "outputs": [
    {
     "name": "stdout",
     "output_type": "stream",
     "text": [
      "(207, 6252)\n"
     ]
    }
   ],
   "source": [
    "allData = fia.mergeData(data_yes, data_no)\n",
    "print(allData.shape)"
   ]
  },
  {
   "cell_type": "code",
   "execution_count": 26,
   "metadata": {},
   "outputs": [],
   "source": [
    "def LOO_Knn(allData):\n",
    "    labelsPredictedKNN = []\n",
    "    labelReal = allData[:, 6250]\n",
    "    for i in range(allData.shape[0]):\n",
    "        dataTrain = fia.exclude(allData, i)\n",
    "        ImgsTrain = np.array(dataTrain[:, :-2], dtype= int)\n",
    "        LabelsTrain = np.array(dataTrain[:, 6250], dtype= int)\n",
    "        NameImageTrain = np.array(dataTrain[:, 6251], dtype= str)  \n",
    "\n",
    "\n",
    "        dataTest = allData[i, :]\n",
    "        dataTest = dataTest.reshape(1, 6252)\n",
    "        ImgsTest = np.array(dataTest[:, :-2], dtype=int)\n",
    "        LabelsTest = np.array(dataTest[:, 6250], dtype=int)\n",
    "        NameImageTest = np.array(dataTest[:, 6251], dtype=str)\n",
    "\n",
    "        knn = fia.KNNClassifier(1)\n",
    "        knn.fit(ImgsTrain, LabelsTrain)\n",
    "        prediction = knn.predict(ImgsTest)\n",
    "        \n",
    "        labelsPredictedKNN.append(prediction[0])\n",
    "    labelsPredictedKNN = np.array(labelsPredictedKNN)  \n",
    "    return(labelsPredictedKNN)"
   ]
  },
  {
   "cell_type": "code",
   "execution_count": 27,
   "metadata": {},
   "outputs": [],
   "source": [
    "def LOO_KMeans(allData):\n",
    "    labelsPre = []\n",
    "    labelsR = []\n",
    "    labelsPlus = []\n",
    "    for i in range(allData.shape[0]):\n",
    "        dataTrain = fia.exclude(allData, i)\n",
    "        ImgsTrain = np.array(dataTrain[:, :-2], dtype= int)\n",
    "        LabelsTrain = np.array(dataTrain[:, 6250], dtype= int)\n",
    "        NameImageTrain = np.array(dataTrain[:, 6251], dtype= str)  \n",
    "\n",
    "\n",
    "        dataTest = allData[i, :]\n",
    "        dataTest = dataTest.reshape(1, 6252)\n",
    "        ImgsTest = np.array(dataTest[:, :-2], dtype=int)\n",
    "        LabelsTest = np.array(dataTest[:, 6250], dtype=int)\n",
    "        NameImageTest = np.array(dataTest[:, 6251], dtype=str)\n",
    "\n",
    "        iterations, k=2, 2\n",
    "\n",
    "        kmeansPre = fia.KMeans(k,iterations)\n",
    "        kmeansR = fia.KMeans(k,iterations)\n",
    "        kmeansPlus = fia.KMeans(k,iterations)\n",
    "        \n",
    "        # Ajustar el modelo a los datos\n",
    "        kmeansPre.fitPreprocess(ImgsTrain, LabelsTrain)\n",
    "        kmeansR.fitRANDOM(ImgsTrain)\n",
    "        kmeansPlus.fitKplus(ImgsTrain)\n",
    "        \n",
    "        # Obtener las etiquetas asignadas a cada punto\n",
    "        predicted_labelsPre = kmeansPre.predict(ImgsTest)\n",
    "        predicted_labelsR = kmeansR.predict(ImgsTest)\n",
    "        predicted_labelsPlus = kmeansPlus.predict(ImgsTest)\n",
    "        \n",
    "        labelsPre.append(predicted_labelsPre[0])\n",
    "        labelsR.append(predicted_labelsR[0])\n",
    "        labelsPlus.append(predicted_labelsPlus[0])\n",
    "    \n",
    "    accuracyPre = np.mean(labelsPre == np.array(allData[:, 6250], dtype=int))\n",
    "    accuracyR = np.mean(labelsR == np.array(allData[:, 6250], dtype=int))\n",
    "    accuracyPlus = np.mean(labelsPlus == np.array(allData[:, 6250], dtype=int))\n",
    "    \n",
    "    print(accuracyPre,accuracyR,accuracyPlus)\n",
    "    "
   ]
  },
  {
   "cell_type": "code",
   "execution_count": 28,
   "metadata": {},
   "outputs": [
    {
     "name": "stdout",
     "output_type": "stream",
     "text": [
      "0.6956521739130435 0.5458937198067633 0.5072463768115942\n"
     ]
    }
   ],
   "source": [
    "LOO_KMeans(allData)"
   ]
  },
  {
   "cell_type": "code",
   "execution_count": 29,
   "metadata": {},
   "outputs": [],
   "source": [
    "predictions = LOO_Knn(allData)"
   ]
  },
  {
   "cell_type": "code",
   "execution_count": 30,
   "metadata": {},
   "outputs": [
    {
     "name": "stdout",
     "output_type": "stream",
     "text": [
      "0.7922705314009661\n"
     ]
    }
   ],
   "source": [
    "accuracy = np.mean(predictions == np.array(allData[:, 6250], dtype=int))\n",
    "print(accuracy)"
   ]
  },
  {
   "cell_type": "code",
   "execution_count": 50,
   "metadata": {},
   "outputs": [],
   "source": [
    "NamePredicction =  fia.mergeData(predictions,allData[:, 6251])\n",
    "NamePredicction = NamePredicction.reshape(2, 207)"
   ]
  },
  {
   "cell_type": "code",
   "execution_count": 52,
   "metadata": {},
   "outputs": [
    {
     "ename": "AttributeError",
     "evalue": "module 'FuncionesIA' has no attribute 'positiveData'",
     "output_type": "error",
     "traceback": [
      "\u001b[1;31m---------------------------------------------------------------------------\u001b[0m",
      "\u001b[1;31mAttributeError\u001b[0m                            Traceback (most recent call last)",
      "\u001b[1;32m~\\AppData\\Local\\Temp\\ipykernel_12412\\241711394.py\u001b[0m in \u001b[0;36m<module>\u001b[1;34m\u001b[0m\n\u001b[1;32m----> 1\u001b[1;33m \u001b[0mNamePredictionYES\u001b[0m\u001b[1;33m=\u001b[0m \u001b[0mfia\u001b[0m\u001b[1;33m.\u001b[0m\u001b[0mpositiveData\u001b[0m\u001b[1;33m(\u001b[0m\u001b[0mNamePredicction\u001b[0m\u001b[1;33m)\u001b[0m\u001b[1;33m\u001b[0m\u001b[1;33m\u001b[0m\u001b[0m\n\u001b[0m\u001b[0;32m      2\u001b[0m \u001b[0mprint\u001b[0m\u001b[1;33m(\u001b[0m\u001b[0mNamePredictionYES\u001b[0m\u001b[1;33m)\u001b[0m\u001b[1;33m\u001b[0m\u001b[1;33m\u001b[0m\u001b[0m\n",
      "\u001b[1;31mAttributeError\u001b[0m: module 'FuncionesIA' has no attribute 'positiveData'"
     ]
    }
   ],
   "source": [
    "NamePredictionYES= fia.positiveData(NamePredicction)\n",
    "print(NamePredictionYES)"
   ]
  },
  {
   "cell_type": "code",
   "execution_count": null,
   "metadata": {},
   "outputs": [],
   "source": [
    "archivos = os.listdir('mergedImages/')\n",
    "for archivo in archivos:\n",
    "    "
   ]
  }
 ],
 "metadata": {
  "kernelspec": {
   "display_name": "base",
   "language": "python",
   "name": "python3"
  },
  "language_info": {
   "codemirror_mode": {
    "name": "ipython",
    "version": 3
   },
   "file_extension": ".py",
   "mimetype": "text/x-python",
   "name": "python",
   "nbconvert_exporter": "python",
   "pygments_lexer": "ipython3",
   "version": "3.9.13"
  },
  "orig_nbformat": 4
 },
 "nbformat": 4,
 "nbformat_minor": 2
}
